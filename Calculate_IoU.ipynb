{
  "nbformat": 4,
  "nbformat_minor": 0,
  "metadata": {
    "colab": {
      "provenance": [],
      "authorship_tag": "ABX9TyNF1dJIC0S/gzVAS9ZvsCkF",
      "include_colab_link": true
    },
    "kernelspec": {
      "name": "ir",
      "display_name": "R"
    },
    "language_info": {
      "name": "R"
    }
  },
  "cells": [
    {
      "cell_type": "markdown",
      "metadata": {
        "id": "view-in-github",
        "colab_type": "text"
      },
      "source": [
        "<a href=\"https://colab.research.google.com/github/Leia2000/Bachelorarbeit_Skripte/blob/main/Calculate_IoU.ipynb\" target=\"_parent\"><img src=\"https://colab.research.google.com/assets/colab-badge.svg\" alt=\"Open In Colab\"/></a>"
      ]
    },
    {
      "cell_type": "code",
      "execution_count": null,
      "metadata": {
        "id": "Y03SqxV3_7Ut"
      },
      "outputs": [],
      "source": [
        "require(terra)\n",
        "require(caret)\n",
        "\n",
        "setwd(\"C:/BSc_Arbeit/Twigs/Klassifikation/test_zweige\")\n",
        "\n",
        "# Load your binary raster layers\n",
        "raster1 <- rast(\"mask1_84_52.tif\")\n",
        "raster2 <- rast(\"no_probability_9.tif\")\n",
        "\n",
        "# get value range of prediction raster and restrict to 1 and 99% percentile\n",
        "percentiles <- quantile(values(raster2), probs = c(0.01, 0.99), na.rm = TRUE)\n",
        "# create 1000 thresholds to test\n",
        "th <- seq( percentiles[1],percentiles[2],(as.numeric(percentiles[2]-percentiles[1])/1999))\n",
        "\n",
        "# create empty list to store results\n",
        "IoU_res <- list()\n",
        "\n",
        "# iterate through thresholds\n",
        "for (i in 1:1999){\n",
        "\n",
        "  # apply current treshold and create binary raster with value 0 or 1\n",
        "  raster3 <- raster2 > th[i]\n",
        "  raster3 <- as.numeric(raster3)\n",
        "\n",
        "  # Calculate the intersection (logical AND)\n",
        "  intersection <- raster1 & raster3\n",
        "\n",
        "  # Calculate the union (logical OR)\n",
        "  union <- raster1 | raster3\n",
        "\n",
        "  # calculate IoU helpers\n",
        "  intersection_area <- global(intersection, fun = sum, na.rm = TRUE)[,1]\n",
        "  union_area <- global(union, fun = sum, na.rm = TRUE)[,1]\n",
        "\n",
        "  # Calculate IoU\n",
        "  iou <- intersection_area / union_area\n",
        "\n",
        "  # calaculate traditional pixel-based confusion matrix\n",
        "  vec1 <- as.factor(as.vector(raster1))\n",
        "  ## vec1 hat NaN Werte, die werden zu 0 Werten gewandelt\n",
        "  vec1 <- as.character(vec1)  # Faktor in Character umwandeln\n",
        "  nan_count <- sum(vec1 == \"NaN\")  # \"NaN\" als String erkennen\n",
        "  vec1[vec1 == \"NaN\"] <- \"0\"  # NaN durch 0 ersetzen\n",
        "  vec1 <- as.factor(vec1)  # Wieder in Factor umwandeln\n",
        "\n",
        "  vec2 <- as.factor(as.vector(raster3))\n",
        "  valid_idx <- !is.na(vec1)  # Nur Werte behalten, die keine NaN sind\n",
        "  vec1 <- vec1[valid_idx]\n",
        "  vec2 <- vec2[valid_idx]\n",
        "  cfm <- confusionMatrix(vec1, vec2)\n",
        "\n",
        "  # extract kappy value\n",
        "  cfm$overall[2]\n",
        "\n",
        "  # Save IoU and kappa value to list\n",
        "  IoU_res[[i]] <- c(iou, cfm$overall[2])\n",
        "\n",
        "  # print current iteration (i of 1000 tresholds)\n",
        "  print(i)\n",
        "\n",
        "\n",
        "}\n",
        "\n",
        "# prepare data\n",
        "res <- do.call(rbind, IoU_res)\n",
        "# plot kappa values\n",
        "plot(seq(1,1999,1), res[,2])\n",
        "\n",
        "# get highest kappa value\n",
        "best <- which(res[,2] == max(res[,2]))\n",
        "res[best]\n",
        "th[best]\n",
        "\n",
        "# apply threshold of highest kappa value\n",
        "raster_best <- raster2 > th[best]\n",
        "# check plots after applying best threshold according to kappa\n",
        "par(mfrow = c(2,2))\n",
        "\n",
        "plot(raster_best)\n",
        "plot(raster1)\n",
        "plot(raster2)\n",
        "\n",
        "\n",
        "\n",
        "\n"
      ]
    }
  ]
}