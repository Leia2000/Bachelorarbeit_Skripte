{
  "cells": [
    {
      "cell_type": "markdown",
      "metadata": {
        "id": "view-in-github",
        "colab_type": "text"
      },
      "source": [
        "<a href=\"https://colab.research.google.com/github/Leia2000/Bachelorarbeit_Skripte/blob/main/train_SAM_with_TIF_masks.ipynb\" target=\"_parent\"><img src=\"https://colab.research.google.com/assets/colab-badge.svg\" alt=\"Open In Colab\"/></a>"
      ]
    },
    {
      "cell_type": "markdown",
      "metadata": {
        "id": "ekbl6wXaNLxT"
      },
      "source": [
        "https://youtu.be/83tnWs_YBRQ"
      ]
    },
    {
      "cell_type": "code",
      "source": [
        "from google.colab import drive\n",
        "drive.mount('/content/drive')"
      ],
      "metadata": {
        "colab": {
          "base_uri": "https://localhost:8080/"
        },
        "id": "3ZVeQiT4Zq3C",
        "outputId": "53d093e0-a0a7-45b1-80b9-c0b55d14581f"
      },
      "execution_count": null,
      "outputs": [
        {
          "output_type": "stream",
          "name": "stdout",
          "text": [
            "Mounted at /content/drive\n"
          ]
        }
      ]
    },
    {
      "cell_type": "code",
      "execution_count": null,
      "metadata": {
        "collapsed": true,
        "id": "NSkTx6N-Mtyd"
      },
      "outputs": [],
      "source": [
        "# Install the required libraries\n",
        "#SAM\n",
        "!pip install git+https://github.com/facebookresearch/segment-anything.git\n",
        "#Transformers\n",
        "!pip install -q git+https://github.com/huggingface/transformers.git\n",
        "#Datasets to prepare data and monai if you want to use special loss functions\n",
        "!pip install datasets\n",
        "!pip install -q monai\n",
        "#Patchify to divide large images into smaller patches for training. (Not necessary for smaller images)\n",
        "!pip install patchify"
      ]
    },
    {
      "cell_type": "code",
      "execution_count": null,
      "metadata": {
        "id": "aTXUX7xyCEGT"
      },
      "outputs": [],
      "source": [
        "import numpy as np\n",
        "import matplotlib.pyplot as plt\n",
        "import tifffile\n",
        "import os\n",
        "#from patchify import patchify  #Only to handle large images\n",
        "import random\n",
        "from scipy import ndimage"
      ]
    },
    {
      "cell_type": "code",
      "execution_count": null,
      "metadata": {
        "id": "2B2KjUVkGMYM"
      },
      "outputs": [],
      "source": [
        "# Load tiff stack images and masks\n",
        "\n",
        "#1318 large images as tiff image stack\n",
        "large_images = tifffile.imread(\"/content/drive/MyDrive/Bachelorarbeit_Hannes_Grünbeck/No_NaN/masks/really_stacked_images.tif\")\n"
      ]
    },
    {
      "cell_type": "code",
      "source": [
        "large_images = np.load(\"/content/drive/MyDrive/Bachelorarbeit_Hannes_Grünbeck/No_NaN/masks/really_stacked_images.tif.npy\")"
      ],
      "metadata": {
        "id": "4KwFBfkK5Rai"
      },
      "execution_count": null,
      "outputs": []
    },
    {
      "cell_type": "code",
      "source": [
        "#1318 large images as tiff image stack\n",
        "large_masks = tifffile.imread(\"/content/drive/MyDrive/Bachelorarbeit_Hannes_Grünbeck/No_NaN/masks/mask_stack.tif\")\n"
      ],
      "metadata": {
        "id": "Na3smAtmaCrK"
      },
      "execution_count": null,
      "outputs": []
    },
    {
      "cell_type": "code",
      "source": [
        "for i in range(min(5, large_images.shape[0])):  # Display up to 5 slices\n",
        "    plt.figure()\n",
        "    plt.title(f\"Slice {i+1}\")\n",
        "    plt.imshow(large_images[i], cmap='gray')\n",
        "    plt.colorbar()\n",
        "    plt.show()"
      ],
      "metadata": {
        "id": "IoIx_20ejFBj"
      },
      "execution_count": null,
      "outputs": []
    },
    {
      "cell_type": "code",
      "execution_count": null,
      "metadata": {
        "id": "dwN2LFUX59TM"
      },
      "outputs": [],
      "source": [
        "large_images.shape"
      ]
    },
    {
      "cell_type": "code",
      "execution_count": null,
      "metadata": {
        "id": "tbENtOpbbb7q"
      },
      "outputs": [],
      "source": [
        "#Desired patch size for smaller images and step size.\n",
        "patch_size = 256\n",
        "step = 256"
      ]
    },
    {
      "cell_type": "code",
      "source": [
        "import matplotlib.pyplot as plt\n",
        "import numpy as np\n",
        "\n",
        "# Function to display an image and its corresponding mask\n",
        "def display_image_mask_pair(large_images, large_masks, index):\n",
        "    fig, axes = plt.subplots(1, 2, figsize=(10, 5))\n",
        "\n",
        "    # Display the image\n",
        "    axes[0].imshow(large_images, cmap='gray')\n",
        "    axes[0].set_title(f\"Image {index}\")\n",
        "    axes[0].axis('off')\n",
        "\n",
        "    # Display the mask\n",
        "    axes[1].imshow(large_masks, cmap='gray')\n",
        "    axes[1].set_title(f\"Mask {index}\")\n",
        "    axes[1].axis('off')\n",
        "\n",
        "    plt.show()\n",
        "\n",
        "# Number of image-mask pairs to display (adjust as needed)\n",
        "num_samples_to_display = 5\n",
        "\n",
        "# Randomly select indices for display\n",
        "random_indices = np.random.choice(len(large_images), num_samples_to_display, replace=False)\n",
        "\n",
        "# Display the selected image-mask pairs\n",
        "for index in random_indices:\n",
        "    display_image_mask_pair(large_images[index], large_masks[index], index)\n",
        "\n",
        "# Print some statistics about the masks\n",
        "print(\"Mask data type:\", large_masks.dtype)\n",
        "print(\"Minimum mask value:\", large_masks.min())\n",
        "print(\"Maximum mask value:\", large_masks.max())\n",
        "print(\"Number of unique values in masks:\", len(np.unique(large_masks)))\n",
        "\n",
        "# Check for NaN or infinite values in masks\n",
        "if np.any(np.isnan(large_masks)) or np.any(np.isinf(large_masks)):\n",
        "    print(\"Warning: NaN or infinite values found in masks!\")"
      ],
      "metadata": {
        "id": "JfyHt1bPfXX-"
      },
      "execution_count": null,
      "outputs": []
    },
    {
      "cell_type": "code",
      "execution_count": null,
      "metadata": {
        "id": "6HwyzYG9KHqq"
      },
      "outputs": [],
      "source": [
        "all_img_patches = []\n",
        "for img in range(large_images.shape[0]):\n",
        "    large_image = large_images[img]\n",
        "    patches_img = patchify(large_image, (patch_size, patch_size), step=step)  #Step=256 for 256 patches means no overlap\n",
        "\n",
        "    for i in range(patches_img.shape[0]):\n",
        "        for j in range(patches_img.shape[1]):\n",
        "\n",
        "            single_patch_img = patches_img[i,j,:,:]\n",
        "            all_img_patches.append(single_patch_img)\n",
        "\n",
        "images = np.array(all_img_patches)\n",
        "\n",
        "#Let us do the same for masks\n",
        "all_mask_patches = []\n",
        "for img in range(large_masks.shape[0]):\n",
        "    large_mask = large_masks[img]\n",
        "    patches_mask = patchify(large_mask, (patch_size, patch_size), step=step)  #Step=256 for 256 patches means no overlap\n",
        "\n",
        "    for i in range(patches_mask.shape[0]):\n",
        "        for j in range(patches_mask.shape[1]):\n",
        "\n",
        "            single_patch_mask = patches_mask[i,j,:,:]\n",
        "            single_patch_mask = (single_patch_mask / 255.).astype(np.uint8)\n",
        "            all_mask_patches.append(single_patch_mask)\n",
        "\n",
        "masks = np.array(all_mask_patches)"
      ]
    },
    {
      "cell_type": "code",
      "execution_count": null,
      "metadata": {
        "id": "C6yCILU0DvU8"
      },
      "outputs": [],
      "source": [
        "images.shape"
      ]
    },
    {
      "cell_type": "code",
      "source": [
        "import matplotlib.pyplot as plt\n",
        "import numpy as np\n",
        "\n",
        "# Function to display an image and its corresponding mask\n",
        "def display_image_mask_pair(image, mask, index):\n",
        "    fig, axes = plt.subplots(1, 2, figsize=(10, 5))\n",
        "\n",
        "    # Display the image\n",
        "    axes[0].imshow(image, cmap='gray')\n",
        "    axes[0].set_title(f\"Image {index}\")\n",
        "    axes[0].axis('off')\n",
        "\n",
        "    # Display the mask\n",
        "    axes[1].imshow(mask, cmap='gray')\n",
        "    axes[1].set_title(f\"Mask {index}\")\n",
        "    axes[1].axis('off')\n",
        "\n",
        "    plt.show()\n",
        "\n",
        "# Number of image-mask pairs to display (adjust as needed)\n",
        "num_samples_to_display = 5\n",
        "\n",
        "# Randomly select indices for display\n",
        "random_indices = np.random.choice(len(images), num_samples_to_display, replace=False)\n",
        "\n",
        "# Display the selected image-mask pairs\n",
        "for index in random_indices:\n",
        "    display_image_mask_pair(images[index], masks[index], index)\n",
        "\n",
        "# Print some statistics about the masks\n",
        "print(\"Mask data type:\", masks.dtype)\n",
        "print(\"Minimum mask value:\", masks.min())\n",
        "print(\"Maximum mask value:\", masks.max())\n",
        "print(\"Number of unique values in masks:\", len(np.unique(masks)))\n",
        "\n",
        "# Check for NaN or infinite values in masks\n",
        "if np.any(np.isnan(masks)) or np.any(np.isinf(masks)):\n",
        "    print(\"Warning: NaN or infinite values found in masks!\")"
      ],
      "metadata": {
        "id": "t0FSvLfifHn2"
      },
      "execution_count": null,
      "outputs": []
    },
    {
      "cell_type": "code",
      "source": [
        "# Create a list to store the indices of non-empty masks\n",
        "valid_indices = [i for i, mask in enumerate(masks) if mask.max() != 0]\n",
        "# Filter the image and mask arrays to keep only the non-empty pairs\n",
        "filtered_images = images[valid_indices]\n",
        "filtered_masks = masks[valid_indices]\n",
        "print(\"Image shape:\", filtered_images.shape)  # e.g., (num_frames, height, width, num_channels)\n",
        "print(\"Mask shape:\", filtered_masks.shape)"
      ],
      "metadata": {
        "colab": {
          "base_uri": "https://localhost:8080/"
        },
        "id": "c9z-yCrWeqen",
        "outputId": "61c7be96-0601-4528-9c86-25332346dd9e"
      },
      "execution_count": null,
      "outputs": [
        {
          "output_type": "stream",
          "name": "stdout",
          "text": [
            "Image shape: (0, 256, 256)\n",
            "Mask shape: (0, 256, 256)\n"
          ]
        }
      ]
    },
    {
      "cell_type": "code",
      "execution_count": null,
      "metadata": {
        "id": "iFeELFDdOjgz"
      },
      "outputs": [],
      "source": [
        "all_img_patches = []\n",
        "for img in range(large_images.shape[0]):\n",
        "    large_image = large_images[img]\n",
        "\n",
        "    # Check if the image is already the size of a single patch\n",
        "    if large_image.shape[0] == patch_size and large_image.shape[1] == patch_size:\n",
        "        # If yes, append the image directly without patching\n",
        "        all_img_patches.append(large_image)\n",
        "    else:\n",
        "        # If not, proceed with patching\n",
        "        # patchify expects a 2D or 3D input: (height, width) or (height, width, channels)\n",
        "        # Assuming large_image is (height, width, channels), proceed directly\n",
        "        patches_img = patchify(large_image, (patch_size, patch_size, large_images.shape[2]), step=step)\n",
        "\n",
        "        for i in range(patches_img.shape[0]):\n",
        "            for j in range(patches_img.shape[1]):\n",
        "                single_patch_img = patches_img[i, j, 0, :, :, :] # Extract the patch from the 5D output\n",
        "                all_img_patches.append(single_patch_img)\n",
        "\n",
        "images = np.array(all_img_patches)\n",
        "\n",
        "# Apply the same logic to masks, but without channels\n",
        "all_mask_patches = []\n",
        "for img in range(large_masks.shape[0]):\n",
        "    large_mask = large_masks[img]\n",
        "\n",
        "    if large_mask.shape[0] == patch_size and large_mask.shape[1] == patch_size:\n",
        "        all_mask_patches.append(large_mask)\n",
        "    else:\n",
        "        # patchify for masks should only consider 2 dimensions (height, width)\n",
        "        patches_mask = patchify(large_mask, (patch_size, patch_size), step=step)\n",
        "\n",
        "        for i in range(patches_mask.shape[0]):\n",
        "            for j in range(patches_mask.shape[1]):\n",
        "                single_patch_mask = patches_mask[i, j, :, :] # Extract the patch from the 4D output\n",
        "                single_patch_mask = (single_patch_mask / 255.).astype(np.uint8)\n",
        "                all_mask_patches.append(single_patch_mask)\n",
        "\n",
        "masks = np.array(all_mask_patches)"
      ]
    },
    {
      "cell_type": "code",
      "execution_count": null,
      "metadata": {
        "id": "EOdcxsLcPTnB"
      },
      "outputs": [],
      "source": [
        "print(\"Shape der TIF-Datei:\", large_masks.shape)\n",
        "\n",
        "# Eine Ebene der TIF-Datei anzeigen (z. B. die erste Ebene)\n",
        "plt.imshow(large_masks[0], cmap=\"gray\")  # cmap=\"gray\" für Schwarz-Weiß-Darstellung\n",
        "plt.title(\"Erste Ebene der TIF-Datei\")\n",
        "plt.axis(\"off\")\n",
        "plt.show()"
      ]
    },
    {
      "cell_type": "code",
      "execution_count": null,
      "metadata": {
        "colab": {
          "base_uri": "https://localhost:8080/"
        },
        "id": "rtswt5WRSEJz",
        "outputId": "808536d2-d88e-42d3-f43b-f4dec13aa5d9"
      },
      "outputs": [
        {
          "name": "stdout",
          "output_type": "stream",
          "text": [
            "Image shape: (1318, 256, 256, 3)\n",
            "Mask shape: (1318, 256, 256)\n"
          ]
        }
      ],
      "source": [
        "# Create a list to store the indices of non-empty masks\n",
        "valid_indices = [i for i, mask in enumerate(masks) if mask.max() != 0]\n",
        "# Filter the image and mask arrays to keep only the non-empty pairs\n",
        "filtered_images = images[valid_indices]\n",
        "filtered_masks = masks[valid_indices]\n",
        "print(\"Image shape:\", large_images.shape)  # e.g., (num_frames, height, width, num_channels)\n",
        "print(\"Mask shape:\", large_masks.shape)"
      ]
    },
    {
      "cell_type": "code",
      "execution_count": null,
      "metadata": {
        "colab": {
          "base_uri": "https://localhost:8080/"
        },
        "id": "EwBvAtrhQO9p",
        "outputId": "8a66e45f-658e-46ed-b346-5d5ed0852069"
      },
      "outputs": [
        {
          "name": "stdout",
          "output_type": "stream",
          "text": [
            "Shape Images: (1318, 256, 256)\n",
            "Shape Masks: (1318, 256, 256)\n"
          ]
        }
      ],
      "source": [
        "# Graustufen berechnen (Mittelwert über die Kanäle)\n",
        "grayscale_images = np.mean(large_images, axis=-1)  # Mittelwert entlang der Kanalachse\n",
        "print(\"Shape Images:\", grayscale_images.shape)  # Sollte (1318, 256, 256) sein\n",
        "print(\"Shape Masks:\", large_masks.shape)  # Sollte (1318, 256, 256) sein"
      ]
    },
    {
      "cell_type": "code",
      "execution_count": null,
      "metadata": {
        "colab": {
          "base_uri": "https://localhost:8080/"
        },
        "id": "AyxDVRvqVRMM",
        "outputId": "16138f75-16a8-4679-b0cd-dd8e70faa402"
      },
      "outputs": [
        {
          "name": "stdout",
          "output_type": "stream",
          "text": [
            "large_masks dtype: float32\n",
            "large_masks min: 0.0 max: 1.0\n",
            "large_masks_normalized min: 0 max: 255\n"
          ]
        }
      ],
      "source": [
        "print(\"large_masks dtype:\", large_masks.dtype)\n",
        "print(\"large_masks min:\", large_masks.min(), \"max:\", large_masks.max())\n",
        "\n",
        "large_masks_normalized = (large_masks / large_masks.max() * 255).astype(np.uint8)\n",
        "print(\"large_masks_normalized min:\", large_masks_normalized.min(), \"max:\", large_masks_normalized.max())\n"
      ]
    },
    {
      "cell_type": "code",
      "execution_count": null,
      "metadata": {
        "id": "5hAoOYN2_s7l"
      },
      "outputs": [],
      "source": [
        "from datasets import Dataset\n",
        "from PIL import Image\n",
        "\n",
        "# Convert the NumPy arrays to Pillow images and store them in a dictionary\n",
        "dataset_dict = {\n",
        "    \"image\": [Image.fromarray(img) for img in grayscale_images],\n",
        "    \"label\": [Image.fromarray(mask) for mask in large_masks_normalized],\n",
        "}\n",
        "\n",
        "# Create the dataset using the datasets.Dataset class\n",
        "dataset = Dataset.from_dict(dataset_dict)"
      ]
    },
    {
      "cell_type": "code",
      "execution_count": null,
      "metadata": {
        "colab": {
          "base_uri": "https://localhost:8080/",
          "height": 856
        },
        "id": "bcnNq5s8Q2gw",
        "outputId": "18f9f460-5daf-4747-a717-ca74c6f02f74"
      },
      "outputs": [
        {
          "name": "stdout",
          "output_type": "stream",
          "text": [
            "Shape der TIF-Datei: (1318, 256, 256)\n"
          ]
        },
        {
          "data": {
            "image/png": "[encoded data removed]",
            "text/plain": [
              "<Figure size 640x480 with 1 Axes>"
            ]
          },
          "metadata": {},
          "output_type": "display_data"
        },
        {
          "data": {
            "image/png": "[encoded data removed]",
            "text/plain": [
              "<Figure size 640x480 with 1 Axes>"
            ]
          },
          "metadata": {},
          "output_type": "display_data"
        }
      ],
      "source": [
        "print(\"Shape der TIF-Datei:\", large_masks.shape)\n",
        "\n",
        "# Eine Ebene der Image-Datei anzeigen (z. B. die erste Ebene)\n",
        "plt.imshow(grayscale_images[5], cmap=\"gray\")  # cmap=\"gray\" für Schwarz-Weiß-Darstellung\n",
        "plt.title(\"Erste Ebene der TIF-Datei\")\n",
        "plt.axis(\"off\")\n",
        "plt.show()\n",
        "\n",
        "# Eine Ebene der TIF-Datei anzeigen (z. B. die erste Ebene)\n",
        "plt.imshow(large_masks[5], cmap=\"gray\")  # cmap=\"gray\" für Schwarz-Weiß-Darstellung\n",
        "plt.title(\"Erste Ebene der TIF-Datei\")\n",
        "plt.axis(\"off\")\n",
        "plt.show()"
      ]
    },
    {
      "cell_type": "code",
      "execution_count": null,
      "metadata": {
        "colab": {
          "base_uri": "https://localhost:8080/"
        },
        "id": "fISBbWMRBfV3",
        "outputId": "207dcb9a-845f-4265-90cf-d0ea5e6fc067"
      },
      "outputs": [
        {
          "data": {
            "text/plain": [
              "Dataset({\n",
              "    features: ['image', 'label'],\n",
              "    num_rows: 1318\n",
              "})"
            ]
          },
          "execution_count": 12,
          "metadata": {},
          "output_type": "execute_result"
        }
      ],
      "source": [
        "dataset"
      ]
    },
    {
      "cell_type": "markdown",
      "metadata": {
        "id": "NSPSMTIAhVWN"
      },
      "source": [
        "Let us make sure out images and masks (labels) are loading appropriately"
      ]
    },
    {
      "cell_type": "code",
      "execution_count": null,
      "metadata": {
        "colab": {
          "base_uri": "https://localhost:8080/",
          "height": 211
        },
        "id": "CAiRRfJhGmVs",
        "outputId": "ff8fe775-c0f6-4230-a01c-1765c94fa1e2"
      },
      "outputs": [
        {
          "output_type": "error",
          "ename": "NameError",
          "evalue": "name 'random' is not defined",
          "traceback": [
            "\u001b[0;31m---------------------------------------------------------------------------\u001b[0m",
            "\u001b[0;31mNameError\u001b[0m                                 Traceback (most recent call last)",
            "\u001b[0;32m<ipython-input-1-50e426b380f2>\u001b[0m in \u001b[0;36m<cell line: 1>\u001b[0;34m()\u001b[0m\n\u001b[0;32m----> 1\u001b[0;31m \u001b[0mimg_num\u001b[0m \u001b[0;34m=\u001b[0m \u001b[0mrandom\u001b[0m\u001b[0;34m.\u001b[0m\u001b[0mrandint\u001b[0m\u001b[0;34m(\u001b[0m\u001b[0;36m0\u001b[0m\u001b[0;34m,\u001b[0m \u001b[0mgrayscale_images\u001b[0m\u001b[0;34m.\u001b[0m\u001b[0mshape\u001b[0m\u001b[0;34m[\u001b[0m\u001b[0;36m0\u001b[0m\u001b[0;34m]\u001b[0m\u001b[0;34m-\u001b[0m\u001b[0;36m1\u001b[0m\u001b[0;34m)\u001b[0m\u001b[0;34m\u001b[0m\u001b[0;34m\u001b[0m\u001b[0m\n\u001b[0m\u001b[1;32m      2\u001b[0m \u001b[0mexample_image\u001b[0m \u001b[0;34m=\u001b[0m \u001b[0mdataset\u001b[0m\u001b[0;34m[\u001b[0m\u001b[0mimg_num\u001b[0m\u001b[0;34m]\u001b[0m\u001b[0;34m[\u001b[0m\u001b[0;34m\"image\"\u001b[0m\u001b[0;34m]\u001b[0m\u001b[0;34m\u001b[0m\u001b[0;34m\u001b[0m\u001b[0m\n\u001b[1;32m      3\u001b[0m \u001b[0mexample_mask\u001b[0m \u001b[0;34m=\u001b[0m \u001b[0mdataset\u001b[0m\u001b[0;34m[\u001b[0m\u001b[0mimg_num\u001b[0m\u001b[0;34m]\u001b[0m\u001b[0;34m[\u001b[0m\u001b[0;34m\"label\"\u001b[0m\u001b[0;34m]\u001b[0m\u001b[0;34m\u001b[0m\u001b[0;34m\u001b[0m\u001b[0m\n\u001b[1;32m      4\u001b[0m \u001b[0;34m\u001b[0m\u001b[0m\n\u001b[1;32m      5\u001b[0m \u001b[0mfig\u001b[0m\u001b[0;34m,\u001b[0m \u001b[0maxes\u001b[0m \u001b[0;34m=\u001b[0m \u001b[0mplt\u001b[0m\u001b[0;34m.\u001b[0m\u001b[0msubplots\u001b[0m\u001b[0;34m(\u001b[0m\u001b[0;36m1\u001b[0m\u001b[0;34m,\u001b[0m \u001b[0;36m2\u001b[0m\u001b[0;34m,\u001b[0m \u001b[0mfigsize\u001b[0m\u001b[0;34m=\u001b[0m\u001b[0;34m(\u001b[0m\u001b[0;36m10\u001b[0m\u001b[0;34m,\u001b[0m \u001b[0;36m5\u001b[0m\u001b[0;34m)\u001b[0m\u001b[0;34m)\u001b[0m\u001b[0;34m\u001b[0m\u001b[0;34m\u001b[0m\u001b[0m\n",
            "\u001b[0;31mNameError\u001b[0m: name 'random' is not defined"
          ]
        }
      ],
      "source": [
        "img_num = random.randint(0, grayscale_images.shape[0]-1)\n",
        "example_image = dataset[img_num][\"image\"]\n",
        "example_mask = dataset[img_num][\"label\"]\n",
        "\n",
        "fig, axes = plt.subplots(1, 2, figsize=(10, 5))\n",
        "\n",
        "# Plot the first image on the left\n",
        "axes[0].imshow(np.array(example_image), cmap='gray')  # Assuming the first image is grayscale\n",
        "axes[0].set_title(\"Image\")\n",
        "\n",
        "# Plot the second image on the right\n",
        "axes[1].imshow(example_mask, cmap='gray')  # Assuming the second image is grayscale\n",
        "axes[1].set_title(\"Mask\")\n",
        "\n",
        "# Hide axis ticks and labels\n",
        "for ax in axes:\n",
        "    ax.set_xticks([])\n",
        "    ax.set_yticks([])\n",
        "    ax.set_xticklabels([])\n",
        "    ax.set_yticklabels([])\n",
        "\n",
        "# Display the images side by side\n",
        "plt.show()"
      ]
    },
    {
      "cell_type": "code",
      "execution_count": null,
      "metadata": {
        "id": "LYmrZ9hWCpKV"
      },
      "outputs": [],
      "source": [
        "#Get bounding boxes from mask.\n",
        "def get_bounding_box(ground_truth_map):\n",
        "  # get bounding box from mask\n",
        "  y_indices, x_indices = np.where(ground_truth_map > 0)\n",
        "  x_min, x_max = np.min(x_indices), np.max(x_indices)\n",
        "  y_min, y_max = np.min(y_indices), np.max(y_indices)\n",
        "  # add perturbation to bounding box coordinates\n",
        "  H, W = ground_truth_map.shape\n",
        "  x_min = max(0, x_min - np.random.randint(0, 20))\n",
        "  x_max = min(W, x_max + np.random.randint(0, 20))\n",
        "  y_min = max(0, y_min - np.random.randint(0, 20))\n",
        "  y_max = min(H, y_max + np.random.randint(0, 20))\n",
        "  bbox = [x_min, y_min, x_max, y_max]\n",
        "\n",
        "  return bbox"
      ]
    },
    {
      "cell_type": "code",
      "execution_count": null,
      "metadata": {
        "id": "dQVNaYYbDKf6"
      },
      "outputs": [],
      "source": [
        "from torch.utils.data import Dataset\n",
        "\n",
        "class SAMDataset(Dataset):\n",
        "  \"\"\"\n",
        "  This class is used to create a dataset that serves input images and masks.\n",
        "  It takes a dataset and a processor as input and overrides the __len__ and __getitem__ methods of the Dataset class.\n",
        "  \"\"\"\n",
        "  def __init__(self, dataset, processor):\n",
        "    self.dataset = dataset\n",
        "    self.processor = processor\n",
        "\n",
        "  def __len__(self):\n",
        "    return len(self.dataset)\n",
        "\n",
        "  def __getitem__(self, idx):\n",
        "    item = self.dataset[idx]\n",
        "    image = item[\"image\"]\n",
        "    ground_truth_mask = np.array(item[\"label\"])\n",
        "\n",
        "    # get bounding box prompt\n",
        "    prompt = get_bounding_box(ground_truth_mask)\n",
        "\n",
        "    # prepare image and prompt for the model\n",
        "    inputs = self.processor(image, input_boxes=[[prompt]], return_tensors=\"pt\")\n",
        "\n",
        "    # remove batch dimension which the processor adds by default\n",
        "    inputs = {k:v.squeeze(0) for k,v in inputs.items()}\n",
        "\n",
        "    # add ground truth segmentation\n",
        "    inputs[\"ground_truth_mask\"] = ground_truth_mask\n",
        "\n",
        "    return inputs"
      ]
    },
    {
      "cell_type": "code",
      "execution_count": null,
      "metadata": {
        "colab": {
          "base_uri": "https://localhost:8080/",
          "height": 171,
          "referenced_widgets": [
            "54ae4ababba84995b8e2f86a1f38b087",
            "570df7c3481c4bbdb885c9cc8ae4f586",
            "d737b8632eea4b5e9eb083b0c3c2bb99",
            "f712d192c5184c5fb62f263b3e7b4c8a",
            "9d24056d336d4983bde028e0a895e6a5",
            "189ebcf749ec454b9325cb8fcbaa8bba",
            "4cfb0b93f5e448b2ae51b4512a649ce0",
            "e1a10c13395a4a04823546dc702ab587",
            "5632617b213844d2917247ce61820b57",
            "9e536493b1604281b6f75f63770e0146",
            "47aec6dc45ee45348e2464cb41b6d2f8"
          ]
        },
        "id": "5IVksPItDOYg",
        "outputId": "98e8e00b-cff8-4175-db86-4fef7b1aae54"
      },
      "outputs": [
        {
          "name": "stderr",
          "output_type": "stream",
          "text": [
            "/usr/local/lib/python3.10/dist-packages/huggingface_hub/utils/_auth.py:94: UserWarning: \n",
            "The secret `HF_TOKEN` does not exist in your Colab secrets.\n",
            "To authenticate with the Hugging Face Hub, create a token in your settings tab (https://huggingface.co/settings/tokens), set it as secret in your Google Colab and restart your session.\n",
            "You will be able to reuse this secret in all of your notebooks.\n",
            "Please note that authentication is recommended but still optional to access public models or datasets.\n",
            "  warnings.warn(\n"
          ]
        },
        {
          "data": {
            "application/vnd.jupyter.widget-view+json": {
              "model_id": "54ae4ababba84995b8e2f86a1f38b087",
              "version_major": 2,
              "version_minor": 0
            },
            "text/plain": [
              "preprocessor_config.json:   0%|          | 0.00/466 [00:00<?, ?B/s]"
            ]
          },
          "metadata": {},
          "output_type": "display_data"
        }
      ],
      "source": [
        "# Initialize the processor\n",
        "from transformers import SamProcessor\n",
        "processor = SamProcessor.from_pretrained(\"facebook/sam-vit-base\")"
      ]
    },
    {
      "cell_type": "code",
      "execution_count": null,
      "metadata": {
        "id": "1bSlgShwNSsr"
      },
      "outputs": [],
      "source": [
        "from datasets import Dataset\n",
        "from PIL import Image\n",
        "\n",
        "# Convert the NumPy arrays to Pillow images and store them in a dictionary\n",
        "dataset_dict = {\n",
        "    \"image\": [Image.fromarray(img).convert(\"RGB\") for img in grayscale_images], # Convert to RGB\n",
        "    \"label\": [Image.fromarray(mask) for mask in large_masks_normalized],\n",
        "}\n",
        "\n",
        "# Create the dataset using the datasets.Dataset class\n",
        "dataset = Dataset.from_dict(dataset_dict)"
      ]
    },
    {
      "cell_type": "code",
      "execution_count": null,
      "metadata": {
        "id": "aU59Asl5DQCF"
      },
      "outputs": [],
      "source": [
        "# Create an instance of the SAMDataset\n",
        "train_dataset = SAMDataset(dataset=dataset, processor=processor)"
      ]
    },
    {
      "cell_type": "code",
      "execution_count": null,
      "metadata": {
        "colab": {
          "base_uri": "https://localhost:8080/"
        },
        "id": "qMUQO3fCDTyV",
        "outputId": "31b9f350-26de-4977-d662-e4a81e62b19f"
      },
      "outputs": [
        {
          "name": "stdout",
          "output_type": "stream",
          "text": [
            "pixel_values torch.Size([3, 1024, 1024])\n",
            "original_sizes torch.Size([2])\n",
            "reshaped_input_sizes torch.Size([2])\n",
            "input_boxes torch.Size([1, 4])\n",
            "ground_truth_mask (256, 256)\n"
          ]
        }
      ],
      "source": [
        "example = train_dataset[0]\n",
        "for k,v in example.items():\n",
        "  print(k,v.shape)\n"
      ]
    },
    {
      "cell_type": "code",
      "execution_count": null,
      "metadata": {
        "id": "G694dS0RDWdl"
      },
      "outputs": [],
      "source": [
        "# Create a DataLoader instance for the training dataset\n",
        "from torch.utils.data import DataLoader\n",
        "train_dataloader = DataLoader(train_dataset, batch_size=2, shuffle=True, drop_last=False)"
      ]
    },
    {
      "cell_type": "code",
      "execution_count": null,
      "metadata": {
        "colab": {
          "base_uri": "https://localhost:8080/"
        },
        "id": "oAHAY4LxDYCt",
        "outputId": "6da40ed5-e139-44b9-b765-8c8858dedfe0"
      },
      "outputs": [
        {
          "name": "stdout",
          "output_type": "stream",
          "text": [
            "pixel_values torch.Size([2, 3, 1024, 1024])\n",
            "original_sizes torch.Size([2, 2])\n",
            "reshaped_input_sizes torch.Size([2, 2])\n",
            "input_boxes torch.Size([2, 1, 4])\n",
            "ground_truth_mask torch.Size([2, 256, 256])\n"
          ]
        }
      ],
      "source": [
        "batch = next(iter(train_dataloader))\n",
        "for k,v in batch.items():\n",
        "  print(k,v.shape)"
      ]
    },
    {
      "cell_type": "code",
      "execution_count": null,
      "metadata": {
        "colab": {
          "base_uri": "https://localhost:8080/"
        },
        "id": "l0G55sGADaJ3",
        "outputId": "a5f0f288-9ef8-4f7f-b595-a82060b9b1e1"
      },
      "outputs": [
        {
          "data": {
            "text/plain": [
              "torch.Size([2, 256, 256])"
            ]
          },
          "execution_count": 22,
          "metadata": {},
          "output_type": "execute_result"
        }
      ],
      "source": [
        "batch[\"ground_truth_mask\"].shape"
      ]
    },
    {
      "cell_type": "code",
      "execution_count": null,
      "metadata": {
        "colab": {
          "base_uri": "https://localhost:8080/",
          "height": 81,
          "referenced_widgets": [
            "9615b7c9e5224954908805d0abc72436",
            "328de2e7a4264746a2eeae3fa7835b3b",
            "2df5d70a02b044e0971441cf9aa9789c",
            "5053f8e795334542850aef16e8231097",
            "b1739ea6b71c4f83a29ca26005c8e0ba",
            "3403b75daf1742c6bddb0d2668e4d30a",
            "bfb40cd434264531854bb0186843c1c8",
            "7975530b1dfa4774af4f81432b9a3b00",
            "8074a1ec4fee472ab2d969f355a05403",
            "9ccf481c49134f2cb4611af1c44afd99",
            "ed31f9c018e047a69b45907d77a151bb",
            "8837c748313d433a89cb7fa902c1c878",
            "0939f9141fd046438a2df2c4250bfc08",
            "258642b2807047eea74bccff15b3f938",
            "7cd87a0d55424d488c77224fe9e0bbec",
            "5c2618918d004db9814870e540bd0b66",
            "85292538ca174e8497baffb2dac4618d",
            "0180edad3e7e49c4af81c017dff3b585",
            "0c8c409882954896b681ae9b637df71e",
            "47ea8f0be1384ceb8eec372886ddec88",
            "f119d2820e0748419247cf3670e2e283",
            "b82fb123ac7248d39237936b8fbcc607"
          ]
        },
        "id": "7fUTkHq3DcVV",
        "outputId": "1f4420db-4216-43b5-af17-bcc34b7dcefd"
      },
      "outputs": [
        {
          "data": {
            "application/vnd.jupyter.widget-view+json": {
              "model_id": "9615b7c9e5224954908805d0abc72436",
              "version_major": 2,
              "version_minor": 0
            },
            "text/plain": [
              "config.json:   0%|          | 0.00/6.57k [00:00<?, ?B/s]"
            ]
          },
          "metadata": {},
          "output_type": "display_data"
        },
        {
          "data": {
            "application/vnd.jupyter.widget-view+json": {
              "model_id": "8837c748313d433a89cb7fa902c1c878",
              "version_major": 2,
              "version_minor": 0
            },
            "text/plain": [
              "model.safetensors:   0%|          | 0.00/375M [00:00<?, ?B/s]"
            ]
          },
          "metadata": {},
          "output_type": "display_data"
        }
      ],
      "source": [
        "# Load the model\n",
        "from transformers import SamModel\n",
        "model = SamModel.from_pretrained(\"facebook/sam-vit-base\")\n",
        "\n",
        "# make sure we only compute gradients for mask decoder\n",
        "for name, param in model.named_parameters():\n",
        "  if name.startswith(\"vision_encoder\") or name.startswith(\"prompt_encoder\"):\n",
        "    param.requires_grad_(False)"
      ]
    },
    {
      "cell_type": "code",
      "execution_count": null,
      "metadata": {
        "id": "NUQFybjODebi"
      },
      "outputs": [],
      "source": [
        "from torch.optim import Adam\n",
        "import monai\n",
        "# Initialize the optimizer and the loss function\n",
        "optimizer = Adam(model.mask_decoder.parameters(), lr=1e-5, weight_decay=0)\n",
        "#Try DiceFocalLoss, FocalLoss, DiceCELoss\n",
        "seg_loss = monai.losses.DiceCELoss(sigmoid=True, squared_pred=True, reduction='mean')"
      ]
    },
    {
      "cell_type": "code",
      "execution_count": null,
      "metadata": {
        "colab": {
          "background_save": true,
          "base_uri": "https://localhost:8080/"
        },
        "id": "XbD2PQlPDgFF",
        "outputId": "becc7a00-21de-408f-e0ef-f8d5b70bb537"
      },
      "outputs": [
        {
          "name": "stderr",
          "output_type": "stream",
          "text": [
            "100%|██████████| 659/659 [10:28<00:00,  1.05it/s]\n"
          ]
        },
        {
          "name": "stdout",
          "output_type": "stream",
          "text": [
            "EPOCH: 0\n",
            "Mean loss: -47296.75991952329\n"
          ]
        },
        {
          "name": "stderr",
          "output_type": "stream",
          "text": [
            "100%|██████████| 659/659 [10:28<00:00,  1.05it/s]\n"
          ]
        },
        {
          "name": "stdout",
          "output_type": "stream",
          "text": [
            "EPOCH: 1\n",
            "Mean loss: -183572.38274248093\n"
          ]
        },
        {
          "name": "stderr",
          "output_type": "stream",
          "text": [
            "100%|██████████| 659/659 [10:29<00:00,  1.05it/s]\n"
          ]
        },
        {
          "name": "stdout",
          "output_type": "stream",
          "text": [
            "EPOCH: 2\n",
            "Mean loss: -447520.1387415236\n"
          ]
        },
        {
          "name": "stderr",
          "output_type": "stream",
          "text": [
            "100%|██████████| 659/659 [10:29<00:00,  1.05it/s]\n"
          ]
        },
        {
          "name": "stdout",
          "output_type": "stream",
          "text": [
            "EPOCH: 3\n",
            "Mean loss: -929521.5620917405\n"
          ]
        },
        {
          "name": "stderr",
          "output_type": "stream",
          "text": [
            "100%|██████████| 659/659 [10:25<00:00,  1.05it/s]\n"
          ]
        },
        {
          "name": "stdout",
          "output_type": "stream",
          "text": [
            "EPOCH: 4\n",
            "Mean loss: -1722410.999288695\n"
          ]
        },
        {
          "name": "stderr",
          "output_type": "stream",
          "text": [
            "100%|██████████| 659/659 [10:26<00:00,  1.05it/s]\n"
          ]
        },
        {
          "name": "stdout",
          "output_type": "stream",
          "text": [
            "EPOCH: 5\n",
            "Mean loss: -2899525.1223177873\n"
          ]
        },
        {
          "name": "stderr",
          "output_type": "stream",
          "text": [
            "100%|██████████| 659/659 [10:26<00:00,  1.05it/s]\n"
          ]
        },
        {
          "name": "stdout",
          "output_type": "stream",
          "text": [
            "EPOCH: 6\n",
            "Mean loss: -4528619.287509484\n"
          ]
        },
        {
          "name": "stderr",
          "output_type": "stream",
          "text": [
            "100%|██████████| 659/659 [10:27<00:00,  1.05it/s]"
          ]
        },
        {
          "name": "stdout",
          "output_type": "stream",
          "text": [
            "EPOCH: 7\n",
            "Mean loss: -6672475.558244025\n"
          ]
        },
        {
          "name": "stderr",
          "output_type": "stream",
          "text": [
            "\n"
          ]
        }
      ],
      "source": [
        "from tqdm import tqdm\n",
        "from statistics import mean\n",
        "import torch\n",
        "from torch.nn.functional import threshold, normalize\n",
        "\n",
        "#Training loop\n",
        "num_epochs = 10\n",
        "\n",
        "device = \"cuda\" if torch.cuda.is_available() else \"cpu\"\n",
        "model.to(device)\n",
        "\n",
        "model.train()\n",
        "for epoch in range(num_epochs):\n",
        "    epoch_losses = []\n",
        "    for batch in tqdm(train_dataloader):\n",
        "      # forward pass\n",
        "      outputs = model(pixel_values=batch[\"pixel_values\"].to(device),\n",
        "                      input_boxes=batch[\"input_boxes\"].to(device),\n",
        "                      multimask_output=False)\n",
        "\n",
        "      # compute loss\n",
        "      predicted_masks = outputs.pred_masks.squeeze(1)\n",
        "      ground_truth_masks = batch[\"ground_truth_mask\"].float().to(device)\n",
        "      loss = seg_loss(predicted_masks, ground_truth_masks.unsqueeze(1))\n",
        "\n",
        "      # backward pass (compute gradients of parameters w.r.t. loss)\n",
        "      optimizer.zero_grad()\n",
        "      loss.backward()\n",
        "\n",
        "      # optimize\n",
        "      optimizer.step()\n",
        "      epoch_losses.append(loss.item())\n",
        "\n",
        "    print(f'EPOCH: {epoch}')\n",
        "    print(f'Mean loss: {mean(epoch_losses)}')"
      ]
    },
    {
      "cell_type": "code",
      "execution_count": null,
      "metadata": {
        "id": "7zm89g_tbcdN"
      },
      "outputs": [],
      "source": [
        "# Save the model's state dictionary to a file\n",
        "torch.save(model.state_dict(), \"/content/drive/MyDrive/Bachelorarbeit_Hannes_Grünbeck/Ergebnisse_SAM/test.pth\")"
      ]
    }
  ],
  "metadata": {
    "accelerator": "GPU",
    "colab": {
      "gpuType": "T4",
      "provenance": [],
      "include_colab_link": true
    },
    "kernelspec": {
      "display_name": "Python 3",
      "name": "python3"
    },
    "language_info": {
      "name": "python"
    },
    "widgets": {
      "application/vnd.jupyter.widget-state+json": {
        "0180edad3e7e49c4af81c017dff3b585": {
          "model_module": "@jupyter-widgets/controls",
          "model_module_version": "1.5.0",
          "model_name": "DescriptionStyleModel",
          "state": {
            "_model_module": "@jupyter-widgets/controls",
            "_model_module_version": "1.5.0",
            "_model_name": "DescriptionStyleModel",
            "_view_count": null,
            "_view_module": "@jupyter-widgets/base",
            "_view_module_version": "1.2.0",
            "_view_name": "StyleView",
            "description_width": ""
          }
        },
        "0939f9141fd046438a2df2c4250bfc08": {
          "model_module": "@jupyter-widgets/controls",
          "model_module_version": "1.5.0",
          "model_name": "HTMLModel",
          "state": {
            "_dom_classes": [],
            "_model_module": "@jupyter-widgets/controls",
            "_model_module_version": "1.5.0",
            "_model_name": "HTMLModel",
            "_view_count": null,
            "_view_module": "@jupyter-widgets/controls",
            "_view_module_version": "1.5.0",
            "_view_name": "HTMLView",
            "description": "",
            "description_tooltip": null,
            "layout": "IPY_MODEL_85292538ca174e8497baffb2dac4618d",
            "placeholder": "​",
            "style": "IPY_MODEL_0180edad3e7e49c4af81c017dff3b585",
            "value": "model.safetensors: 100%"
          }
        },
        "0c8c409882954896b681ae9b637df71e": {
          "model_module": "@jupyter-widgets/base",
          "model_module_version": "1.2.0",
          "model_name": "LayoutModel",
          "state": {
            "_model_module": "@jupyter-widgets/base",
            "_model_module_version": "1.2.0",
            "_model_name": "LayoutModel",
            "_view_count": null,
            "_view_module": "@jupyter-widgets/base",
            "_view_module_version": "1.2.0",
            "_view_name": "LayoutView",
            "align_content": null,
            "align_items": null,
            "align_self": null,
            "border": null,
            "bottom": null,
            "display": null,
            "flex": null,
            "flex_flow": null,
            "grid_area": null,
            "grid_auto_columns": null,
            "grid_auto_flow": null,
            "grid_auto_rows": null,
            "grid_column": null,
            "grid_gap": null,
            "grid_row": null,
            "grid_template_areas": null,
            "grid_template_columns": null,
            "grid_template_rows": null,
            "height": null,
            "justify_content": null,
            "justify_items": null,
            "left": null,
            "margin": null,
            "max_height": null,
            "max_width": null,
            "min_height": null,
            "min_width": null,
            "object_fit": null,
            "object_position": null,
            "order": null,
            "overflow": null,
            "overflow_x": null,
            "overflow_y": null,
            "padding": null,
            "right": null,
            "top": null,
            "visibility": null,
            "width": null
          }
        },
        "189ebcf749ec454b9325cb8fcbaa8bba": {
          "model_module": "@jupyter-widgets/base",
          "model_module_version": "1.2.0",
          "model_name": "LayoutModel",
          "state": {
            "_model_module": "@jupyter-widgets/base",
            "_model_module_version": "1.2.0",
            "_model_name": "LayoutModel",
            "_view_count": null,
            "_view_module": "@jupyter-widgets/base",
            "_view_module_version": "1.2.0",
            "_view_name": "LayoutView",
            "align_content": null,
            "align_items": null,
            "align_self": null,
            "border": null,
            "bottom": null,
            "display": null,
            "flex": null,
            "flex_flow": null,
            "grid_area": null,
            "grid_auto_columns": null,
            "grid_auto_flow": null,
            "grid_auto_rows": null,
            "grid_column": null,
            "grid_gap": null,
            "grid_row": null,
            "grid_template_areas": null,
            "grid_template_columns": null,
            "grid_template_rows": null,
            "height": null,
            "justify_content": null,
            "justify_items": null,
            "left": null,
            "margin": null,
            "max_height": null,
            "max_width": null,
            "min_height": null,
            "min_width": null,
            "object_fit": null,
            "object_position": null,
            "order": null,
            "overflow": null,
            "overflow_x": null,
            "overflow_y": null,
            "padding": null,
            "right": null,
            "top": null,
            "visibility": null,
            "width": null
          }
        },
        "258642b2807047eea74bccff15b3f938": {
          "model_module": "@jupyter-widgets/controls",
          "model_module_version": "1.5.0",
          "model_name": "FloatProgressModel",
          "state": {
            "_dom_classes": [],
            "_model_module": "@jupyter-widgets/controls",
            "_model_module_version": "1.5.0",
            "_model_name": "FloatProgressModel",
            "_view_count": null,
            "_view_module": "@jupyter-widgets/controls",
            "_view_module_version": "1.5.0",
            "_view_name": "ProgressView",
            "bar_style": "success",
            "description": "",
            "description_tooltip": null,
            "layout": "IPY_MODEL_0c8c409882954896b681ae9b637df71e",
            "max": 374979480,
            "min": 0,
            "orientation": "horizontal",
            "style": "IPY_MODEL_47ea8f0be1384ceb8eec372886ddec88",
            "value": 374979480
          }
        },
        "2df5d70a02b044e0971441cf9aa9789c": {
          "model_module": "@jupyter-widgets/controls",
          "model_module_version": "1.5.0",
          "model_name": "FloatProgressModel",
          "state": {
            "_dom_classes": [],
            "_model_module": "@jupyter-widgets/controls",
            "_model_module_version": "1.5.0",
            "_model_name": "FloatProgressModel",
            "_view_count": null,
            "_view_module": "@jupyter-widgets/controls",
            "_view_module_version": "1.5.0",
            "_view_name": "ProgressView",
            "bar_style": "success",
            "description": "",
            "description_tooltip": null,
            "layout": "IPY_MODEL_7975530b1dfa4774af4f81432b9a3b00",
            "max": 6566,
            "min": 0,
            "orientation": "horizontal",
            "style": "IPY_MODEL_8074a1ec4fee472ab2d969f355a05403",
            "value": 6566
          }
        },
        "328de2e7a4264746a2eeae3fa7835b3b": {
          "model_module": "@jupyter-widgets/controls",
          "model_module_version": "1.5.0",
          "model_name": "HTMLModel",
          "state": {
            "_dom_classes": [],
            "_model_module": "@jupyter-widgets/controls",
            "_model_module_version": "1.5.0",
            "_model_name": "HTMLModel",
            "_view_count": null,
            "_view_module": "@jupyter-widgets/controls",
            "_view_module_version": "1.5.0",
            "_view_name": "HTMLView",
            "description": "",
            "description_tooltip": null,
            "layout": "IPY_MODEL_3403b75daf1742c6bddb0d2668e4d30a",
            "placeholder": "​",
            "style": "IPY_MODEL_bfb40cd434264531854bb0186843c1c8",
            "value": "config.json: 100%"
          }
        },
        "3403b75daf1742c6bddb0d2668e4d30a": {
          "model_module": "@jupyter-widgets/base",
          "model_module_version": "1.2.0",
          "model_name": "LayoutModel",
          "state": {
            "_model_module": "@jupyter-widgets/base",
            "_model_module_version": "1.2.0",
            "_model_name": "LayoutModel",
            "_view_count": null,
            "_view_module": "@jupyter-widgets/base",
            "_view_module_version": "1.2.0",
            "_view_name": "LayoutView",
            "align_content": null,
            "align_items": null,
            "align_self": null,
            "border": null,
            "bottom": null,
            "display": null,
            "flex": null,
            "flex_flow": null,
            "grid_area": null,
            "grid_auto_columns": null,
            "grid_auto_flow": null,
            "grid_auto_rows": null,
            "grid_column": null,
            "grid_gap": null,
            "grid_row": null,
            "grid_template_areas": null,
            "grid_template_columns": null,
            "grid_template_rows": null,
            "height": null,
            "justify_content": null,
            "justify_items": null,
            "left": null,
            "margin": null,
            "max_height": null,
            "max_width": null,
            "min_height": null,
            "min_width": null,
            "object_fit": null,
            "object_position": null,
            "order": null,
            "overflow": null,
            "overflow_x": null,
            "overflow_y": null,
            "padding": null,
            "right": null,
            "top": null,
            "visibility": null,
            "width": null
          }
        },
        "47aec6dc45ee45348e2464cb41b6d2f8": {
          "model_module": "@jupyter-widgets/controls",
          "model_module_version": "1.5.0",
          "model_name": "DescriptionStyleModel",
          "state": {
            "_model_module": "@jupyter-widgets/controls",
            "_model_module_version": "1.5.0",
            "_model_name": "DescriptionStyleModel",
            "_view_count": null,
            "_view_module": "@jupyter-widgets/base",
            "_view_module_version": "1.2.0",
            "_view_name": "StyleView",
            "description_width": ""
          }
        },
        "47ea8f0be1384ceb8eec372886ddec88": {
          "model_module": "@jupyter-widgets/controls",
          "model_module_version": "1.5.0",
          "model_name": "ProgressStyleModel",
          "state": {
            "_model_module": "@jupyter-widgets/controls",
            "_model_module_version": "1.5.0",
            "_model_name": "ProgressStyleModel",
            "_view_count": null,
            "_view_module": "@jupyter-widgets/base",
            "_view_module_version": "1.2.0",
            "_view_name": "StyleView",
            "bar_color": null,
            "description_width": ""
          }
        },
        "4cfb0b93f5e448b2ae51b4512a649ce0": {
          "model_module": "@jupyter-widgets/controls",
          "model_module_version": "1.5.0",
          "model_name": "DescriptionStyleModel",
          "state": {
            "_model_module": "@jupyter-widgets/controls",
            "_model_module_version": "1.5.0",
            "_model_name": "DescriptionStyleModel",
            "_view_count": null,
            "_view_module": "@jupyter-widgets/base",
            "_view_module_version": "1.2.0",
            "_view_name": "StyleView",
            "description_width": ""
          }
        },
        "5053f8e795334542850aef16e8231097": {
          "model_module": "@jupyter-widgets/controls",
          "model_module_version": "1.5.0",
          "model_name": "HTMLModel",
          "state": {
            "_dom_classes": [],
            "_model_module": "@jupyter-widgets/controls",
            "_model_module_version": "1.5.0",
            "_model_name": "HTMLModel",
            "_view_count": null,
            "_view_module": "@jupyter-widgets/controls",
            "_view_module_version": "1.5.0",
            "_view_name": "HTMLView",
            "description": "",
            "description_tooltip": null,
            "layout": "IPY_MODEL_9ccf481c49134f2cb4611af1c44afd99",
            "placeholder": "​",
            "style": "IPY_MODEL_ed31f9c018e047a69b45907d77a151bb",
            "value": " 6.57k/6.57k [00:00&lt;00:00, 245kB/s]"
          }
        },
        "54ae4ababba84995b8e2f86a1f38b087": {
          "model_module": "@jupyter-widgets/controls",
          "model_module_version": "1.5.0",
          "model_name": "HBoxModel",
          "state": {
            "_dom_classes": [],
            "_model_module": "@jupyter-widgets/controls",
            "_model_module_version": "1.5.0",
            "_model_name": "HBoxModel",
            "_view_count": null,
            "_view_module": "@jupyter-widgets/controls",
            "_view_module_version": "1.5.0",
            "_view_name": "HBoxView",
            "box_style": "",
            "children": [
              "IPY_MODEL_570df7c3481c4bbdb885c9cc8ae4f586",
              "IPY_MODEL_d737b8632eea4b5e9eb083b0c3c2bb99",
              "IPY_MODEL_f712d192c5184c5fb62f263b3e7b4c8a"
            ],
            "layout": "IPY_MODEL_9d24056d336d4983bde028e0a895e6a5"
          }
        },
        "5632617b213844d2917247ce61820b57": {
          "model_module": "@jupyter-widgets/controls",
          "model_module_version": "1.5.0",
          "model_name": "ProgressStyleModel",
          "state": {
            "_model_module": "@jupyter-widgets/controls",
            "_model_module_version": "1.5.0",
            "_model_name": "ProgressStyleModel",
            "_view_count": null,
            "_view_module": "@jupyter-widgets/base",
            "_view_module_version": "1.2.0",
            "_view_name": "StyleView",
            "bar_color": null,
            "description_width": ""
          }
        },
        "570df7c3481c4bbdb885c9cc8ae4f586": {
          "model_module": "@jupyter-widgets/controls",
          "model_module_version": "1.5.0",
          "model_name": "HTMLModel",
          "state": {
            "_dom_classes": [],
            "_model_module": "@jupyter-widgets/controls",
            "_model_module_version": "1.5.0",
            "_model_name": "HTMLModel",
            "_view_count": null,
            "_view_module": "@jupyter-widgets/controls",
            "_view_module_version": "1.5.0",
            "_view_name": "HTMLView",
            "description": "",
            "description_tooltip": null,
            "layout": "IPY_MODEL_189ebcf749ec454b9325cb8fcbaa8bba",
            "placeholder": "​",
            "style": "IPY_MODEL_4cfb0b93f5e448b2ae51b4512a649ce0",
            "value": "preprocessor_config.json: 100%"
          }
        },
        "5c2618918d004db9814870e540bd0b66": {
          "model_module": "@jupyter-widgets/base",
          "model_module_version": "1.2.0",
          "model_name": "LayoutModel",
          "state": {
            "_model_module": "@jupyter-widgets/base",
            "_model_module_version": "1.2.0",
            "_model_name": "LayoutModel",
            "_view_count": null,
            "_view_module": "@jupyter-widgets/base",
            "_view_module_version": "1.2.0",
            "_view_name": "LayoutView",
            "align_content": null,
            "align_items": null,
            "align_self": null,
            "border": null,
            "bottom": null,
            "display": null,
            "flex": null,
            "flex_flow": null,
            "grid_area": null,
            "grid_auto_columns": null,
            "grid_auto_flow": null,
            "grid_auto_rows": null,
            "grid_column": null,
            "grid_gap": null,
            "grid_row": null,
            "grid_template_areas": null,
            "grid_template_columns": null,
            "grid_template_rows": null,
            "height": null,
            "justify_content": null,
            "justify_items": null,
            "left": null,
            "margin": null,
            "max_height": null,
            "max_width": null,
            "min_height": null,
            "min_width": null,
            "object_fit": null,
            "object_position": null,
            "order": null,
            "overflow": null,
            "overflow_x": null,
            "overflow_y": null,
            "padding": null,
            "right": null,
            "top": null,
            "visibility": null,
            "width": null
          }
        },
        "7975530b1dfa4774af4f81432b9a3b00": {
          "model_module": "@jupyter-widgets/base",
          "model_module_version": "1.2.0",
          "model_name": "LayoutModel",
          "state": {
            "_model_module": "@jupyter-widgets/base",
            "_model_module_version": "1.2.0",
            "_model_name": "LayoutModel",
            "_view_count": null,
            "_view_module": "@jupyter-widgets/base",
            "_view_module_version": "1.2.0",
            "_view_name": "LayoutView",
            "align_content": null,
            "align_items": null,
            "align_self": null,
            "border": null,
            "bottom": null,
            "display": null,
            "flex": null,
            "flex_flow": null,
            "grid_area": null,
            "grid_auto_columns": null,
            "grid_auto_flow": null,
            "grid_auto_rows": null,
            "grid_column": null,
            "grid_gap": null,
            "grid_row": null,
            "grid_template_areas": null,
            "grid_template_columns": null,
            "grid_template_rows": null,
            "height": null,
            "justify_content": null,
            "justify_items": null,
            "left": null,
            "margin": null,
            "max_height": null,
            "max_width": null,
            "min_height": null,
            "min_width": null,
            "object_fit": null,
            "object_position": null,
            "order": null,
            "overflow": null,
            "overflow_x": null,
            "overflow_y": null,
            "padding": null,
            "right": null,
            "top": null,
            "visibility": null,
            "width": null
          }
        },
        "7cd87a0d55424d488c77224fe9e0bbec": {
          "model_module": "@jupyter-widgets/controls",
          "model_module_version": "1.5.0",
          "model_name": "HTMLModel",
          "state": {
            "_dom_classes": [],
            "_model_module": "@jupyter-widgets/controls",
            "_model_module_version": "1.5.0",
            "_model_name": "HTMLModel",
            "_view_count": null,
            "_view_module": "@jupyter-widgets/controls",
            "_view_module_version": "1.5.0",
            "_view_name": "HTMLView",
            "description": "",
            "description_tooltip": null,
            "layout": "IPY_MODEL_f119d2820e0748419247cf3670e2e283",
            "placeholder": "​",
            "style": "IPY_MODEL_b82fb123ac7248d39237936b8fbcc607",
            "value": " 375M/375M [00:03&lt;00:00, 70.0MB/s]"
          }
        },
        "8074a1ec4fee472ab2d969f355a05403": {
          "model_module": "@jupyter-widgets/controls",
          "model_module_version": "1.5.0",
          "model_name": "ProgressStyleModel",
          "state": {
            "_model_module": "@jupyter-widgets/controls",
            "_model_module_version": "1.5.0",
            "_model_name": "ProgressStyleModel",
            "_view_count": null,
            "_view_module": "@jupyter-widgets/base",
            "_view_module_version": "1.2.0",
            "_view_name": "StyleView",
            "bar_color": null,
            "description_width": ""
          }
        },
        "85292538ca174e8497baffb2dac4618d": {
          "model_module": "@jupyter-widgets/base",
          "model_module_version": "1.2.0",
          "model_name": "LayoutModel",
          "state": {
            "_model_module": "@jupyter-widgets/base",
            "_model_module_version": "1.2.0",
            "_model_name": "LayoutModel",
            "_view_count": null,
            "_view_module": "@jupyter-widgets/base",
            "_view_module_version": "1.2.0",
            "_view_name": "LayoutView",
            "align_content": null,
            "align_items": null,
            "align_self": null,
            "border": null,
            "bottom": null,
            "display": null,
            "flex": null,
            "flex_flow": null,
            "grid_area": null,
            "grid_auto_columns": null,
            "grid_auto_flow": null,
            "grid_auto_rows": null,
            "grid_column": null,
            "grid_gap": null,
            "grid_row": null,
            "grid_template_areas": null,
            "grid_template_columns": null,
            "grid_template_rows": null,
            "height": null,
            "justify_content": null,
            "justify_items": null,
            "left": null,
            "margin": null,
            "max_height": null,
            "max_width": null,
            "min_height": null,
            "min_width": null,
            "object_fit": null,
            "object_position": null,
            "order": null,
            "overflow": null,
            "overflow_x": null,
            "overflow_y": null,
            "padding": null,
            "right": null,
            "top": null,
            "visibility": null,
            "width": null
          }
        },
        "8837c748313d433a89cb7fa902c1c878": {
          "model_module": "@jupyter-widgets/controls",
          "model_module_version": "1.5.0",
          "model_name": "HBoxModel",
          "state": {
            "_dom_classes": [],
            "_model_module": "@jupyter-widgets/controls",
            "_model_module_version": "1.5.0",
            "_model_name": "HBoxModel",
            "_view_count": null,
            "_view_module": "@jupyter-widgets/controls",
            "_view_module_version": "1.5.0",
            "_view_name": "HBoxView",
            "box_style": "",
            "children": [
              "IPY_MODEL_0939f9141fd046438a2df2c4250bfc08",
              "IPY_MODEL_258642b2807047eea74bccff15b3f938",
              "IPY_MODEL_7cd87a0d55424d488c77224fe9e0bbec"
            ],
            "layout": "IPY_MODEL_5c2618918d004db9814870e540bd0b66"
          }
        },
        "9615b7c9e5224954908805d0abc72436": {
          "model_module": "@jupyter-widgets/controls",
          "model_module_version": "1.5.0",
          "model_name": "HBoxModel",
          "state": {
            "_dom_classes": [],
            "_model_module": "@jupyter-widgets/controls",
            "_model_module_version": "1.5.0",
            "_model_name": "HBoxModel",
            "_view_count": null,
            "_view_module": "@jupyter-widgets/controls",
            "_view_module_version": "1.5.0",
            "_view_name": "HBoxView",
            "box_style": "",
            "children": [
              "IPY_MODEL_328de2e7a4264746a2eeae3fa7835b3b",
              "IPY_MODEL_2df5d70a02b044e0971441cf9aa9789c",
              "IPY_MODEL_5053f8e795334542850aef16e8231097"
            ],
            "layout": "IPY_MODEL_b1739ea6b71c4f83a29ca26005c8e0ba"
          }
        },
        "9ccf481c49134f2cb4611af1c44afd99": {
          "model_module": "@jupyter-widgets/base",
          "model_module_version": "1.2.0",
          "model_name": "LayoutModel",
          "state": {
            "_model_module": "@jupyter-widgets/base",
            "_model_module_version": "1.2.0",
            "_model_name": "LayoutModel",
            "_view_count": null,
            "_view_module": "@jupyter-widgets/base",
            "_view_module_version": "1.2.0",
            "_view_name": "LayoutView",
            "align_content": null,
            "align_items": null,
            "align_self": null,
            "border": null,
            "bottom": null,
            "display": null,
            "flex": null,
            "flex_flow": null,
            "grid_area": null,
            "grid_auto_columns": null,
            "grid_auto_flow": null,
            "grid_auto_rows": null,
            "grid_column": null,
            "grid_gap": null,
            "grid_row": null,
            "grid_template_areas": null,
            "grid_template_columns": null,
            "grid_template_rows": null,
            "height": null,
            "justify_content": null,
            "justify_items": null,
            "left": null,
            "margin": null,
            "max_height": null,
            "max_width": null,
            "min_height": null,
            "min_width": null,
            "object_fit": null,
            "object_position": null,
            "order": null,
            "overflow": null,
            "overflow_x": null,
            "overflow_y": null,
            "padding": null,
            "right": null,
            "top": null,
            "visibility": null,
            "width": null
          }
        },
        "9d24056d336d4983bde028e0a895e6a5": {
          "model_module": "@jupyter-widgets/base",
          "model_module_version": "1.2.0",
          "model_name": "LayoutModel",
          "state": {
            "_model_module": "@jupyter-widgets/base",
            "_model_module_version": "1.2.0",
            "_model_name": "LayoutModel",
            "_view_count": null,
            "_view_module": "@jupyter-widgets/base",
            "_view_module_version": "1.2.0",
            "_view_name": "LayoutView",
            "align_content": null,
            "align_items": null,
            "align_self": null,
            "border": null,
            "bottom": null,
            "display": null,
            "flex": null,
            "flex_flow": null,
            "grid_area": null,
            "grid_auto_columns": null,
            "grid_auto_flow": null,
            "grid_auto_rows": null,
            "grid_column": null,
            "grid_gap": null,
            "grid_row": null,
            "grid_template_areas": null,
            "grid_template_columns": null,
            "grid_template_rows": null,
            "height": null,
            "justify_content": null,
            "justify_items": null,
            "left": null,
            "margin": null,
            "max_height": null,
            "max_width": null,
            "min_height": null,
            "min_width": null,
            "object_fit": null,
            "object_position": null,
            "order": null,
            "overflow": null,
            "overflow_x": null,
            "overflow_y": null,
            "padding": null,
            "right": null,
            "top": null,
            "visibility": null,
            "width": null
          }
        },
        "9e536493b1604281b6f75f63770e0146": {
          "model_module": "@jupyter-widgets/base",
          "model_module_version": "1.2.0",
          "model_name": "LayoutModel",
          "state": {
            "_model_module": "@jupyter-widgets/base",
            "_model_module_version": "1.2.0",
            "_model_name": "LayoutModel",
            "_view_count": null,
            "_view_module": "@jupyter-widgets/base",
            "_view_module_version": "1.2.0",
            "_view_name": "LayoutView",
            "align_content": null,
            "align_items": null,
            "align_self": null,
            "border": null,
            "bottom": null,
            "display": null,
            "flex": null,
            "flex_flow": null,
            "grid_area": null,
            "grid_auto_columns": null,
            "grid_auto_flow": null,
            "grid_auto_rows": null,
            "grid_column": null,
            "grid_gap": null,
            "grid_row": null,
            "grid_template_areas": null,
            "grid_template_columns": null,
            "grid_template_rows": null,
            "height": null,
            "justify_content": null,
            "justify_items": null,
            "left": null,
            "margin": null,
            "max_height": null,
            "max_width": null,
            "min_height": null,
            "min_width": null,
            "object_fit": null,
            "object_position": null,
            "order": null,
            "overflow": null,
            "overflow_x": null,
            "overflow_y": null,
            "padding": null,
            "right": null,
            "top": null,
            "visibility": null,
            "width": null
          }
        },
        "b1739ea6b71c4f83a29ca26005c8e0ba": {
          "model_module": "@jupyter-widgets/base",
          "model_module_version": "1.2.0",
          "model_name": "LayoutModel",
          "state": {
            "_model_module": "@jupyter-widgets/base",
            "_model_module_version": "1.2.0",
            "_model_name": "LayoutModel",
            "_view_count": null,
            "_view_module": "@jupyter-widgets/base",
            "_view_module_version": "1.2.0",
            "_view_name": "LayoutView",
            "align_content": null,
            "align_items": null,
            "align_self": null,
            "border": null,
            "bottom": null,
            "display": null,
            "flex": null,
            "flex_flow": null,
            "grid_area": null,
            "grid_auto_columns": null,
            "grid_auto_flow": null,
            "grid_auto_rows": null,
            "grid_column": null,
            "grid_gap": null,
            "grid_row": null,
            "grid_template_areas": null,
            "grid_template_columns": null,
            "grid_template_rows": null,
            "height": null,
            "justify_content": null,
            "justify_items": null,
            "left": null,
            "margin": null,
            "max_height": null,
            "max_width": null,
            "min_height": null,
            "min_width": null,
            "object_fit": null,
            "object_position": null,
            "order": null,
            "overflow": null,
            "overflow_x": null,
            "overflow_y": null,
            "padding": null,
            "right": null,
            "top": null,
            "visibility": null,
            "width": null
          }
        },
        "b82fb123ac7248d39237936b8fbcc607": {
          "model_module": "@jupyter-widgets/controls",
          "model_module_version": "1.5.0",
          "model_name": "DescriptionStyleModel",
          "state": {
            "_model_module": "@jupyter-widgets/controls",
            "_model_module_version": "1.5.0",
            "_model_name": "DescriptionStyleModel",
            "_view_count": null,
            "_view_module": "@jupyter-widgets/base",
            "_view_module_version": "1.2.0",
            "_view_name": "StyleView",
            "description_width": ""
          }
        },
        "bfb40cd434264531854bb0186843c1c8": {
          "model_module": "@jupyter-widgets/controls",
          "model_module_version": "1.5.0",
          "model_name": "DescriptionStyleModel",
          "state": {
            "_model_module": "@jupyter-widgets/controls",
            "_model_module_version": "1.5.0",
            "_model_name": "DescriptionStyleModel",
            "_view_count": null,
            "_view_module": "@jupyter-widgets/base",
            "_view_module_version": "1.2.0",
            "_view_name": "StyleView",
            "description_width": ""
          }
        },
        "d737b8632eea4b5e9eb083b0c3c2bb99": {
          "model_module": "@jupyter-widgets/controls",
          "model_module_version": "1.5.0",
          "model_name": "FloatProgressModel",
          "state": {
            "_dom_classes": [],
            "_model_module": "@jupyter-widgets/controls",
            "_model_module_version": "1.5.0",
            "_model_name": "FloatProgressModel",
            "_view_count": null,
            "_view_module": "@jupyter-widgets/controls",
            "_view_module_version": "1.5.0",
            "_view_name": "ProgressView",
            "bar_style": "success",
            "description": "",
            "description_tooltip": null,
            "layout": "IPY_MODEL_e1a10c13395a4a04823546dc702ab587",
            "max": 466,
            "min": 0,
            "orientation": "horizontal",
            "style": "IPY_MODEL_5632617b213844d2917247ce61820b57",
            "value": 466
          }
        },
        "e1a10c13395a4a04823546dc702ab587": {
          "model_module": "@jupyter-widgets/base",
          "model_module_version": "1.2.0",
          "model_name": "LayoutModel",
          "state": {
            "_model_module": "@jupyter-widgets/base",
            "_model_module_version": "1.2.0",
            "_model_name": "LayoutModel",
            "_view_count": null,
            "_view_module": "@jupyter-widgets/base",
            "_view_module_version": "1.2.0",
            "_view_name": "LayoutView",
            "align_content": null,
            "align_items": null,
            "align_self": null,
            "border": null,
            "bottom": null,
            "display": null,
            "flex": null,
            "flex_flow": null,
            "grid_area": null,
            "grid_auto_columns": null,
            "grid_auto_flow": null,
            "grid_auto_rows": null,
            "grid_column": null,
            "grid_gap": null,
            "grid_row": null,
            "grid_template_areas": null,
            "grid_template_columns": null,
            "grid_template_rows": null,
            "height": null,
            "justify_content": null,
            "justify_items": null,
            "left": null,
            "margin": null,
            "max_height": null,
            "max_width": null,
            "min_height": null,
            "min_width": null,
            "object_fit": null,
            "object_position": null,
            "order": null,
            "overflow": null,
            "overflow_x": null,
            "overflow_y": null,
            "padding": null,
            "right": null,
            "top": null,
            "visibility": null,
            "width": null
          }
        },
        "ed31f9c018e047a69b45907d77a151bb": {
          "model_module": "@jupyter-widgets/controls",
          "model_module_version": "1.5.0",
          "model_name": "DescriptionStyleModel",
          "state": {
            "_model_module": "@jupyter-widgets/controls",
            "_model_module_version": "1.5.0",
            "_model_name": "DescriptionStyleModel",
            "_view_count": null,
            "_view_module": "@jupyter-widgets/base",
            "_view_module_version": "1.2.0",
            "_view_name": "StyleView",
            "description_width": ""
          }
        },
        "f119d2820e0748419247cf3670e2e283": {
          "model_module": "@jupyter-widgets/base",
          "model_module_version": "1.2.0",
          "model_name": "LayoutModel",
          "state": {
            "_model_module": "@jupyter-widgets/base",
            "_model_module_version": "1.2.0",
            "_model_name": "LayoutModel",
            "_view_count": null,
            "_view_module": "@jupyter-widgets/base",
            "_view_module_version": "1.2.0",
            "_view_name": "LayoutView",
            "align_content": null,
            "align_items": null,
            "align_self": null,
            "border": null,
            "bottom": null,
            "display": null,
            "flex": null,
            "flex_flow": null,
            "grid_area": null,
            "grid_auto_columns": null,
            "grid_auto_flow": null,
            "grid_auto_rows": null,
            "grid_column": null,
            "grid_gap": null,
            "grid_row": null,
            "grid_template_areas": null,
            "grid_template_columns": null,
            "grid_template_rows": null,
            "height": null,
            "justify_content": null,
            "justify_items": null,
            "left": null,
            "margin": null,
            "max_height": null,
            "max_width": null,
            "min_height": null,
            "min_width": null,
            "object_fit": null,
            "object_position": null,
            "order": null,
            "overflow": null,
            "overflow_x": null,
            "overflow_y": null,
            "padding": null,
            "right": null,
            "top": null,
            "visibility": null,
            "width": null
          }
        },
        "f712d192c5184c5fb62f263b3e7b4c8a": {
          "model_module": "@jupyter-widgets/controls",
          "model_module_version": "1.5.0",
          "model_name": "HTMLModel",
          "state": {
            "_dom_classes": [],
            "_model_module": "@jupyter-widgets/controls",
            "_model_module_version": "1.5.0",
            "_model_name": "HTMLModel",
            "_view_count": null,
            "_view_module": "@jupyter-widgets/controls",
            "_view_module_version": "1.5.0",
            "_view_name": "HTMLView",
            "description": "",
            "description_tooltip": null,
            "layout": "IPY_MODEL_9e536493b1604281b6f75f63770e0146",
            "placeholder": "​",
            "style": "IPY_MODEL_47aec6dc45ee45348e2464cb41b6d2f8",
            "value": " 466/466 [00:00&lt;00:00, 23.3kB/s]"
          }
        }
      }
    }
  },
  "nbformat": 4,
  "nbformat_minor": 0
}